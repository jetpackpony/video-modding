{
 "cells": [
  {
   "cell_type": "code",
   "execution_count": null,
   "metadata": {},
   "outputs": [],
   "source": [
    "from moviepy.editor import *\n",
    "from moviepy.audio.fx.all import audio_normalize, volumex\n",
    "\n",
    "clip = VideoFileClip(\"../../dev_downloads/t3_f74c63__quiet.mp4\")\n",
    "\n",
    "# clip = volumex(clip, 0.2)\n",
    "clip = audio_normalize(clip)\n",
    "clip.ipython_display(autoplay=1, width=720, maxduration=600)"
   ]
  },
  {
   "cell_type": "code",
   "execution_count": null,
   "metadata": {},
   "outputs": [],
   "source": [
    "from pprint import pprint\n",
    "from moviepy.editor import *\n",
    "\n",
    "resolution = (320, 240)\n",
    "\n",
    "trans = VideoFileClip(\"transition_static_0.3sec.mp4\")\n",
    "trans = volumex(trans, 0.4)\n",
    "\n",
    "trans.ipython_display(autoplay=1, width=720, maxduration=600)"
   ]
  }
 ],
 "metadata": {
  "kernelspec": {
   "display_name": "videos",
   "language": "python",
   "name": "videos"
  },
  "language_info": {
   "codemirror_mode": {
    "name": "ipython",
    "version": 3
   },
   "file_extension": ".py",
   "mimetype": "text/x-python",
   "name": "python",
   "nbconvert_exporter": "python",
   "pygments_lexer": "ipython3",
   "version": "3.6.9"
  }
 },
 "nbformat": 4,
 "nbformat_minor": 4
}
