{
 "cells": [
  {
   "cell_type": "code",
   "execution_count": null,
   "metadata": {},
   "outputs": [],
   "source": [
    "from editing import *\n",
    "\n",
    "resolution = (640, 480)\n",
    "\n",
    "info = {'id': 't3_f6i24d',\n",
    "             'media': {'end': 12,\n",
    "                       'fallback_url': 'https://v.redd.it/acdij2b0cyh41/DASH_480?source=fallback',\n",
    "                       'height': 480,\n",
    "                       'isMuted': True,\n",
    "                       'musicRangeValue': 0,\n",
    "                       'selectedMusicFile': '',\n",
    "                       'start': 0,\n",
    "                       'width': 384},\n",
    "             'title': 'Poor guy has nowhere to go'}\n",
    "\n",
    "clip = process_clip(info, resolution)\n",
    "\n",
    "clip.ipython_display(autoplay=1, width=720)"
   ]
  }
 ],
 "metadata": {
  "kernelspec": {
   "display_name": "Python 3",
   "language": "python",
   "name": "python3"
  },
  "language_info": {
   "codemirror_mode": {
    "name": "ipython",
    "version": 3
   },
   "file_extension": ".py",
   "mimetype": "text/x-python",
   "name": "python",
   "nbconvert_exporter": "python",
   "pygments_lexer": "ipython3",
   "version": "3.6.9"
  }
 },
 "nbformat": 4,
 "nbformat_minor": 4
}
