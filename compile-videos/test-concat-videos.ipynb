{
 "cells": [
  {
   "cell_type": "code",
   "execution_count": null,
   "metadata": {},
   "outputs": [],
   "source": [
    "from pprint import pprint\n",
    "from moviepy.editor import *\n",
    "from json_ops import read_json\n",
    "from editing import process_clip\n",
    "\n",
    "resolution = (320, 240)\n",
    "\n",
    "trans = VideoFileClip(\"transition_static_0.3sec.mp4\")\n",
    "trans = pad_clip_to_size(resolution, trans)\n",
    "\n",
    "filename = \"../dev_collections/23_Feb_2020_13_39_43.json\"\n",
    "collection = read_json(filename)\n",
    "\n",
    "clips = list(map(lambda info: process_clip(info, resolution), collection['videos']))\n",
    "out = concatenate_videoclips(clips, method=\"compose\", transition=trans)\n",
    "\n",
    "out.ipython_display(autoplay=1, width=720, maxduration=600)\n",
    "# out.write_videofile(collection['id'] + \".mp4\", threads=4)\n"
   ]
  },
  {
   "cell_type": "code",
   "execution_count": null,
   "metadata": {},
   "outputs": [],
   "source": [
    "trans = VideoFileClip(\"transition_static_full.mp4\")\n",
    "trans = trim_clip((10, 10.3), trans)\n",
    "\n",
    "trans.write_videofile(\"transition_static_0.3sec.mp4\")"
   ]
  }
 ],
 "metadata": {
  "kernelspec": {
   "display_name": "Python 3",
   "language": "python",
   "name": "python3"
  },
  "language_info": {
   "codemirror_mode": {
    "name": "ipython",
    "version": 3
   },
   "file_extension": ".py",
   "mimetype": "text/x-python",
   "name": "python",
   "nbconvert_exporter": "python",
   "pygments_lexer": "ipython3",
   "version": "3.6.9"
  }
 },
 "nbformat": 4,
 "nbformat_minor": 4
}
