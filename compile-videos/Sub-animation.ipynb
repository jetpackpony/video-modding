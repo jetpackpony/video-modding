{
 "cells": [
  {
   "cell_type": "code",
   "execution_count": null,
   "metadata": {},
   "outputs": [],
   "source": [
    "from moviepy.editor import *\n",
    "from animation import make_rotation_function, make_position_function\n",
    "\n",
    "screensize = (320,240)\n",
    "\n",
    "def make_head():\n",
    "    rot0 = 35\n",
    "    rot1 = 15\n",
    "    rot2 = 5\n",
    "    rot_legs = [(0.7, rot1), (1, rot1), (0.7, rot2)]\n",
    "\n",
    "    pos0 = (-130, 160)\n",
    "    pos1 = (-70, 120)\n",
    "    pos2 = (0, 90)\n",
    "    pos_legs = [(0.7, pos1), (1, pos1), (0.7, pos2)]\n",
    "\n",
    "    headClip = (ImageClip(\"../graphics/head.png\")\n",
    "                   .set_position(make_position_function(pos2, None))\n",
    "    #                 .set_position(\"center\")\n",
    "                   .set_duration(5)\n",
    "                   .resize(height=150)\n",
    "                   .fx(vfx.rotate, make_rotation_function(rot2, None), expand=True, resample=\"bilinear\")\n",
    "              )\n",
    "    headClip.fps = 60\n",
    "    return headClip\n",
    "\n",
    "def make_hands():\n",
    "    rot0 = 35\n",
    "    rot1 = 15\n",
    "    rot2 = 5\n",
    "    rot_legs = [(0.7, rot1), (1, rot1), (0.7, rot2)]\n",
    "\n",
    "    pos0 = (-130, 160)\n",
    "    pos1 = (-70, 120)\n",
    "    pos2 = (0, 90)\n",
    "    pos_legs = [(0.7, pos1), (1, pos1), (0.7, pos2)]\n",
    "\n",
    "    handsClip = (ImageClip(\"../graphics/sub-with-hands.png\")\n",
    "                   .set_position(make_position_function((150, 140), None))\n",
    "#                     .set_position(\"center\")\n",
    "                   .set_duration(5)\n",
    "                   .resize(height=80)\n",
    "#                    .fx(vfx.rotate, make_rotation_function(rot0, rot_legs), expand=True, resample=\"bilinear\")\n",
    "              )\n",
    "    handsClip.fps = 60\n",
    "    return handsClip\n",
    "\n",
    "cvc = CompositeVideoClip([make_head(), make_hands()], size=screensize)\n",
    "\n",
    "cvc.ipython_display(autoplay=1, maxduration=600)"
   ]
  },
  {
   "cell_type": "code",
   "execution_count": null,
   "metadata": {},
   "outputs": [],
   "source": [
    "legs = [(1, 25), (1, 25), (1, 10)]\n",
    "\n",
    "def get_legs_so_far(t):\n",
    "  res = []\n",
    "  dur = 0\n",
    "  for leg in legs:\n",
    "    if dur <= t:\n",
    "      res.append(leg)\n",
    "\n",
    "      dur += leg[0]\n",
    "  return res\n",
    "\n",
    "t = 3.1\n",
    "print(get_legs_so_far(t))"
   ]
  },
  {
   "cell_type": "code",
   "execution_count": null,
   "metadata": {},
   "outputs": [],
   "source": [
    "time_passed = sum(map(lambda leg: leg[0], legs))\n",
    "print(time_passed)"
   ]
  },
  {
   "cell_type": "code",
   "execution_count": null,
   "metadata": {},
   "outputs": [],
   "source": [
    "for j in range(0, 1):\n",
    "    print(j)b"
   ]
  },
  {
   "cell_type": "code",
   "execution_count": null,
   "metadata": {},
   "outputs": [],
   "source": [
    "init_rotation = 55\n",
    "\n",
    "# leg = (start, end, rotation)\n",
    "legs = [(1, 25), (1, 25), (1, 10)]\n",
    "\n",
    "def get_legs_so_far(t):\n",
    "    res = []\n",
    "    dur = 0\n",
    "    for leg in legs:\n",
    "        if dur <= t:\n",
    "            res.append(leg)\n",
    "        dur += leg[0]\n",
    "\n",
    "    return res\n",
    "\n",
    "def rotate(t):\n",
    "    legs_so_far = get_legs_so_far(t)\n",
    "    print(\"legs_so_far\", legs_so_far)\n",
    "    leg = legs_so_far[-1]\n",
    "\n",
    "    # If this is the first leg, use initial rotation, otherswise take the previous leg's\n",
    "    current_rotation = init_rotation if len(legs_so_far) == 1 else legs_so_far[-2][1]\n",
    "    completed_legs_time = sum(map(lambda leg: leg[0], legs_so_far[:-1]))\n",
    "\n",
    "    print(\"current_rotation\", current_rotation)\n",
    "    print(\"completed_legs_time\", completed_legs_time)\n",
    "\n",
    "    # In case time is after the last leg, return the last leg's position\n",
    "    if completed_legs_time + leg[0] < t:\n",
    "        print(\"res leg\", leg[1])\n",
    "        return leg[1]\n",
    "    \n",
    "    res = current_rotation - (current_rotation - leg[1]) * ((t - completed_legs_time) / leg[0])\n",
    "    print(\"res\", res)\n",
    "\n",
    "    return res\n",
    "    \n",
    "print(rotate(35.5))"
   ]
  },
  {
   "cell_type": "code",
   "execution_count": null,
   "metadata": {},
   "outputs": [],
   "source": [
    "a = [(1,2)]\n",
    "\n",
    "print(a[-1])"
   ]
  },
  {
   "cell_type": "code",
   "execution_count": null,
   "metadata": {},
   "outputs": [],
   "source": [
    "print(len((1,2,3)))"
   ]
  }
 ],
 "metadata": {
  "kernelspec": {
   "display_name": "videos",
   "language": "python",
   "name": "videos"
  },
  "language_info": {
   "codemirror_mode": {
    "name": "ipython",
    "version": 3
   },
   "file_extension": ".py",
   "mimetype": "text/x-python",
   "name": "python",
   "nbconvert_exporter": "python",
   "pygments_lexer": "ipython3",
   "version": "3.6.9"
  }
 },
 "nbformat": 4,
 "nbformat_minor": 4
}
