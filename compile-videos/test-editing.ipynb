{
 "cells": [
  {
   "cell_type": "code",
   "execution_count": null,
   "metadata": {},
   "outputs": [],
   "source": [
    "from moviepy.editor import *\n",
    "from editing import *\n",
    "\n",
    "finalsize = (320, 240)\n",
    "\n",
    "clip1 = VideoFileClip(\"../toStitch/8.mp4\")\n",
    "padded= pad_clip_to_size(finalsize, clip1)\n",
    "\n",
    "padded.ipython_display(autoplay=1, width=720)"
   ]
  },
  {
   "cell_type": "code",
   "execution_count": null,
   "metadata": {},
   "outputs": [],
   "source": [
    "trimmed = trim_clip([(11.0, 15.0), (1, 3)], padded)\n",
    "trimmed.ipython_display(autoplay=1, width=720)"
   ]
  },
  {
   "cell_type": "code",
   "execution_count": null,
   "metadata": {},
   "outputs": [],
   "source": [
    "song = AudioFileClip(\"../music/Girl_Before_A_Mirror.mp3\")\n",
    "\n",
    "songStart = 15.43\n",
    "new_audio = add_audio(song, songStart, trimmed)\n",
    "new_audio.ipython_display(autoplay=1, width=720)"
   ]
  },
  {
   "cell_type": "code",
   "execution_count": null,
   "metadata": {},
   "outputs": [],
   "source": [
    "import datetime\n",
    "\n",
    "time = datetime.datetime.now()\n",
    "print(time.strftime(\"%d_%b_%Y_%H_%M_%S\"))"
   ]
  },
  {
   "cell_type": "code",
   "execution_count": null,
   "metadata": {},
   "outputs": [],
   "source": [
    "muted = trimmed.set_audio(None)\n",
    "muted.ipython_display(autoplay=1, width=720)"
   ]
  }
 ],
 "metadata": {
  "kernelspec": {
   "display_name": "Python 3",
   "language": "python",
   "name": "python3"
  },
  "language_info": {
   "codemirror_mode": {
    "name": "ipython",
    "version": 3
   },
   "file_extension": ".py",
   "mimetype": "text/x-python",
   "name": "python",
   "nbconvert_exporter": "python",
   "pygments_lexer": "ipython3",
   "version": "3.6.9"
  }
 },
 "nbformat": 4,
 "nbformat_minor": 4
}
